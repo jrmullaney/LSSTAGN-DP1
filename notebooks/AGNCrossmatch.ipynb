{
 "cells": [
  {
   "cell_type": "markdown",
   "id": "f94d57da-e0b1-45f5-af98-9119faa07321",
   "metadata": {},
   "source": [
    "# Crossmatch to optical positions of ECDF X-ray sources"
   ]
  },
  {
   "cell_type": "markdown",
   "id": "6d461257-af04-4efe-a33b-e66445114e44",
   "metadata": {},
   "source": [
    "## Import modules"
   ]
  },
  {
   "cell_type": "code",
   "execution_count": 1,
   "id": "71858d26-bdb7-4f71-8760-8f3e3e73c212",
   "metadata": {
    "execution": {
     "iopub.execute_input": "2025-07-10T12:41:36.841525Z",
     "iopub.status.busy": "2025-07-10T12:41:36.841337Z",
     "iopub.status.idle": "2025-07-10T12:41:37.843396Z",
     "shell.execute_reply": "2025-07-10T12:41:37.842685Z",
     "shell.execute_reply.started": "2025-07-10T12:41:36.841507Z"
    }
   },
   "outputs": [],
   "source": [
    "from lsst.rsp import get_tap_service, retrieve_query\n",
    "\n",
    "from astropy.table import Table\n",
    "from astropy.io import fits\n",
    "\n",
    "import pandas as pd\n",
    "import matplotlib.pyplot as plt\n",
    "\n",
    "pd.set_option('display.max_rows', 50)"
   ]
  },
  {
   "cell_type": "markdown",
   "id": "b8bbd784-3e17-49ba-875e-fc22d71bed8a",
   "metadata": {},
   "source": [
    "## Start the TAP service"
   ]
  },
  {
   "cell_type": "code",
   "execution_count": 2,
   "id": "230d7071-3a48-4a45-b7a7-731380f57786",
   "metadata": {
    "execution": {
     "iopub.execute_input": "2025-07-10T12:41:42.481834Z",
     "iopub.status.busy": "2025-07-10T12:41:42.481192Z",
     "iopub.status.idle": "2025-07-10T12:41:42.533321Z",
     "shell.execute_reply": "2025-07-10T12:41:42.532675Z",
     "shell.execute_reply.started": "2025-07-10T12:41:42.481803Z"
    }
   },
   "outputs": [],
   "source": [
    "service = get_tap_service(\"tap\")\n",
    "assert service is not None"
   ]
  },
  {
   "cell_type": "markdown",
   "id": "a08a0d15-5c8c-4cf8-815a-2522fa48b655",
   "metadata": {},
   "source": [
    "## List the available tables in DP1"
   ]
  },
  {
   "cell_type": "code",
   "execution_count": 104,
   "id": "9eecabe4-ef0e-4663-9638-512840ad1efc",
   "metadata": {
    "execution": {
     "iopub.execute_input": "2025-07-10T12:31:24.597047Z",
     "iopub.status.busy": "2025-07-10T12:31:24.596174Z",
     "iopub.status.idle": "2025-07-10T12:31:24.697109Z",
     "shell.execute_reply": "2025-07-10T12:31:24.696347Z",
     "shell.execute_reply.started": "2025-07-10T12:31:24.597016Z"
    }
   },
   "outputs": [
    {
     "data": {
      "text/html": [
       "<div><i>Table length=12</i>\n",
       "<table id=\"table138481843311232\" class=\"table-striped table-bordered table-condensed\">\n",
       "<thead><tr><th>schema_name</th><th>table_name</th><th>table_type</th><th>utype</th><th>description</th><th>table_index</th></tr></thead>\n",
       "<thead><tr><th>str512</th><th>str64</th><th>str8</th><th>str512</th><th>str512</th><th>int32</th></tr></thead>\n",
       "<tr><td>dp02_dc2_catalogs</td><td>dp02_dc2_catalogs.CcdVisit</td><td>table</td><td></td><td>Metadata about the 189 individual CCD images for each Visit in the DC2 simulated survey.</td><td>80</td></tr>\n",
       "<tr><td>dp02_dc2_catalogs</td><td>dp02_dc2_catalogs.CoaddPatches</td><td>table</td><td></td><td>Static information about the subset of tracts and patches from the standard LSST skymap that apply to coadds in these catalogs</td><td>90</td></tr>\n",
       "<tr><td>dp02_dc2_catalogs</td><td>dp02_dc2_catalogs.DiaObject</td><td>table</td><td></td><td>Properties of time-varying astronomical objects based on association of data from one or more spatially-related DiaSource detections on individual single-epoch difference images.</td><td>40</td></tr>\n",
       "<tr><td>dp02_dc2_catalogs</td><td>dp02_dc2_catalogs.DiaSource</td><td>table</td><td></td><td>Properties of transient-object detections on the single-epoch difference images.</td><td>50</td></tr>\n",
       "<tr><td>dp02_dc2_catalogs</td><td>dp02_dc2_catalogs.ForcedSource</td><td>table</td><td></td><td>Forced-photometry measurements on individual single-epoch visit images and difference images, based on and linked to the entries in the Object table. Point-source PSF photometry is performed, based on coordinates from a reference band chosen for each Object and reported in the Object.refBand column.</td><td>30</td></tr>\n",
       "<tr><td>dp02_dc2_catalogs</td><td>dp02_dc2_catalogs.ForcedSourceOnDiaObject</td><td>table</td><td></td><td>Point-source forced-photometry measurements on individual single-epoch visit images and difference images, based on and linked to the entries in the DiaObject table.</td><td>60</td></tr>\n",
       "<tr><td>dp02_dc2_catalogs</td><td>dp02_dc2_catalogs.MatchesTruth</td><td>table</td><td></td><td>Match information for TruthSummary objects.</td><td>110</td></tr>\n",
       "<tr><td>dp02_dc2_catalogs</td><td>dp02_dc2_catalogs.Object</td><td>table</td><td></td><td>Properties of the astronomical objects detected and measured on the deep coadded images.</td><td>10</td></tr>\n",
       "<tr><td>dp02_dc2_catalogs</td><td>dp02_dc2_catalogs.ObsCore</td><td>table</td><td></td><td>Observation metadata in the ObsTAP relational realization of the IVOA ObsCore data model</td><td>65</td></tr>\n",
       "<tr><td>dp02_dc2_catalogs</td><td>dp02_dc2_catalogs.Source</td><td>table</td><td></td><td>Properties of detections on the single-epoch visit images, performed independently of the Object detections on coadded images.</td><td>20</td></tr>\n",
       "<tr><td>dp02_dc2_catalogs</td><td>dp02_dc2_catalogs.TruthSummary</td><td>table</td><td></td><td>Summary properties of objects from the DESC DC2 truth catalog, as described in arXiv:2101.04855. Includes the noiseless astrometric and photometric parameters.</td><td>100</td></tr>\n",
       "<tr><td>dp02_dc2_catalogs</td><td>dp02_dc2_catalogs.Visit</td><td>table</td><td></td><td>Metadata about the pointings of the DC2 simulated survey, largely associated with the boresight of the entire focal plane.</td><td>70</td></tr>\n",
       "</table></div>"
      ],
      "text/plain": [
       "<Table length=12>\n",
       "   schema_name                    table_name                ... table_index\n",
       "      str512                        str64                   ...    int32   \n",
       "----------------- ----------------------------------------- ... -----------\n",
       "dp02_dc2_catalogs                dp02_dc2_catalogs.CcdVisit ...          80\n",
       "dp02_dc2_catalogs            dp02_dc2_catalogs.CoaddPatches ...          90\n",
       "dp02_dc2_catalogs               dp02_dc2_catalogs.DiaObject ...          40\n",
       "dp02_dc2_catalogs               dp02_dc2_catalogs.DiaSource ...          50\n",
       "dp02_dc2_catalogs            dp02_dc2_catalogs.ForcedSource ...          30\n",
       "dp02_dc2_catalogs dp02_dc2_catalogs.ForcedSourceOnDiaObject ...          60\n",
       "dp02_dc2_catalogs            dp02_dc2_catalogs.MatchesTruth ...         110\n",
       "dp02_dc2_catalogs                  dp02_dc2_catalogs.Object ...          10\n",
       "dp02_dc2_catalogs                 dp02_dc2_catalogs.ObsCore ...          65\n",
       "dp02_dc2_catalogs                  dp02_dc2_catalogs.Source ...          20\n",
       "dp02_dc2_catalogs            dp02_dc2_catalogs.TruthSummary ...         100\n",
       "dp02_dc2_catalogs                   dp02_dc2_catalogs.Visit ...          70"
      ]
     },
     "execution_count": 104,
     "metadata": {},
     "output_type": "execute_result"
    }
   ],
   "source": [
    "query = \"\"\"\n",
    "    SELECT * \n",
    "    FROM tap_schema.tables\n",
    "    WHERE schema_name = 'dp02_dc2_catalogs'\n",
    "    \n",
    "    \"\"\"\n",
    "results = service.search(query).to_table()\n",
    "results"
   ]
  },
  {
   "cell_type": "markdown",
   "id": "640f64c0-a4e3-47c0-a936-aa503e3a752e",
   "metadata": {},
   "source": [
    "## List the columns in a specific table"
   ]
  },
  {
   "cell_type": "code",
   "execution_count": 8,
   "id": "ffafd58d-00d1-4bae-a69c-2f0a42cd2cea",
   "metadata": {
    "execution": {
     "iopub.execute_input": "2025-07-10T12:50:40.679762Z",
     "iopub.status.busy": "2025-07-10T12:50:40.679084Z",
     "iopub.status.idle": "2025-07-10T12:50:40.799981Z",
     "shell.execute_reply": "2025-07-10T12:50:40.799299Z",
     "shell.execute_reply.started": "2025-07-10T12:50:40.679732Z"
    }
   },
   "outputs": [
    {
     "data": {
      "text/html": [
       "<div>\n",
       "<style scoped>\n",
       "    .dataframe tbody tr th:only-of-type {\n",
       "        vertical-align: middle;\n",
       "    }\n",
       "\n",
       "    .dataframe tbody tr th {\n",
       "        vertical-align: top;\n",
       "    }\n",
       "\n",
       "    .dataframe thead th {\n",
       "        text-align: right;\n",
       "    }\n",
       "</style>\n",
       "<table border=\"1\" class=\"dataframe\">\n",
       "  <thead>\n",
       "    <tr style=\"text-align: right;\">\n",
       "      <th></th>\n",
       "      <th>column_name</th>\n",
       "      <th>datatype</th>\n",
       "      <th>description</th>\n",
       "      <th>unit</th>\n",
       "    </tr>\n",
       "  </thead>\n",
       "  <tbody>\n",
       "    <tr>\n",
       "      <th>0</th>\n",
       "      <td>band</td>\n",
       "      <td>char</td>\n",
       "      <td>Name of the band used to take the exposure whe...</td>\n",
       "      <td></td>\n",
       "    </tr>\n",
       "    <tr>\n",
       "      <th>1</th>\n",
       "      <td>ccdVisitId</td>\n",
       "      <td>long</td>\n",
       "      <td>Primary key (unique identifier).</td>\n",
       "      <td></td>\n",
       "    </tr>\n",
       "    <tr>\n",
       "      <th>2</th>\n",
       "      <td>darkTime</td>\n",
       "      <td>double</td>\n",
       "      <td>Average dark current accumulation time, accura...</td>\n",
       "      <td>s</td>\n",
       "    </tr>\n",
       "    <tr>\n",
       "      <th>3</th>\n",
       "      <td>decl</td>\n",
       "      <td>double</td>\n",
       "      <td>Declination of CCD center.</td>\n",
       "      <td>deg</td>\n",
       "    </tr>\n",
       "    <tr>\n",
       "      <th>4</th>\n",
       "      <td>detector</td>\n",
       "      <td>long</td>\n",
       "      <td>Detector ID. A detector associated with a part...</td>\n",
       "      <td></td>\n",
       "    </tr>\n",
       "    <tr>\n",
       "      <th>5</th>\n",
       "      <td>expMidpt</td>\n",
       "      <td>char</td>\n",
       "      <td>Midpoint for exposure. TAI, accurate to 10ms.</td>\n",
       "      <td></td>\n",
       "    </tr>\n",
       "    <tr>\n",
       "      <th>6</th>\n",
       "      <td>expMidptMJD</td>\n",
       "      <td>double</td>\n",
       "      <td>Midpoint for exposure in MJD. TAI, accurate to...</td>\n",
       "      <td>d</td>\n",
       "    </tr>\n",
       "    <tr>\n",
       "      <th>7</th>\n",
       "      <td>expTime</td>\n",
       "      <td>double</td>\n",
       "      <td>Spatially-averaged duration of exposure, accur...</td>\n",
       "      <td>s</td>\n",
       "    </tr>\n",
       "    <tr>\n",
       "      <th>8</th>\n",
       "      <td>llcdec</td>\n",
       "      <td>double</td>\n",
       "      <td>Declination of lower left corner.</td>\n",
       "      <td>deg</td>\n",
       "    </tr>\n",
       "    <tr>\n",
       "      <th>9</th>\n",
       "      <td>llcra</td>\n",
       "      <td>double</td>\n",
       "      <td>RA of lower left corner.</td>\n",
       "      <td>deg</td>\n",
       "    </tr>\n",
       "    <tr>\n",
       "      <th>10</th>\n",
       "      <td>lrcdec</td>\n",
       "      <td>double</td>\n",
       "      <td>Declination of lower right corner.</td>\n",
       "      <td>deg</td>\n",
       "    </tr>\n",
       "    <tr>\n",
       "      <th>11</th>\n",
       "      <td>lrcra</td>\n",
       "      <td>double</td>\n",
       "      <td>RA of lower right corner.</td>\n",
       "      <td>deg</td>\n",
       "    </tr>\n",
       "    <tr>\n",
       "      <th>12</th>\n",
       "      <td>obsStart</td>\n",
       "      <td>char</td>\n",
       "      <td>Start of the exposure, TAI, accurate to 10ms.</td>\n",
       "      <td></td>\n",
       "    </tr>\n",
       "    <tr>\n",
       "      <th>13</th>\n",
       "      <td>obsStartMJD</td>\n",
       "      <td>double</td>\n",
       "      <td>Start of the exposure in MJD, TAI, accurate to...</td>\n",
       "      <td>d</td>\n",
       "    </tr>\n",
       "    <tr>\n",
       "      <th>14</th>\n",
       "      <td>physical_filter</td>\n",
       "      <td>char</td>\n",
       "      <td>ID of physical filter, the filter associated w...</td>\n",
       "      <td></td>\n",
       "    </tr>\n",
       "    <tr>\n",
       "      <th>15</th>\n",
       "      <td>psfSigma</td>\n",
       "      <td>float</td>\n",
       "      <td>PSF model second-moments determinant radius (c...</td>\n",
       "      <td>pixel</td>\n",
       "    </tr>\n",
       "    <tr>\n",
       "      <th>16</th>\n",
       "      <td>ra</td>\n",
       "      <td>double</td>\n",
       "      <td>RA of CCD center.</td>\n",
       "      <td>deg</td>\n",
       "    </tr>\n",
       "    <tr>\n",
       "      <th>17</th>\n",
       "      <td>seeing</td>\n",
       "      <td>double</td>\n",
       "      <td>Mean measured FWHM of the PSF.</td>\n",
       "      <td>arcsec</td>\n",
       "    </tr>\n",
       "    <tr>\n",
       "      <th>18</th>\n",
       "      <td>skyBg</td>\n",
       "      <td>float</td>\n",
       "      <td>Average sky background.</td>\n",
       "      <td>adu</td>\n",
       "    </tr>\n",
       "    <tr>\n",
       "      <th>19</th>\n",
       "      <td>skyNoise</td>\n",
       "      <td>float</td>\n",
       "      <td>RMS noise of the sky background.</td>\n",
       "      <td>adu</td>\n",
       "    </tr>\n",
       "    <tr>\n",
       "      <th>20</th>\n",
       "      <td>skyRotation</td>\n",
       "      <td>double</td>\n",
       "      <td>Sky rotation angle.</td>\n",
       "      <td>deg</td>\n",
       "    </tr>\n",
       "    <tr>\n",
       "      <th>21</th>\n",
       "      <td>ulcdec</td>\n",
       "      <td>double</td>\n",
       "      <td>Declination of upper left corner.</td>\n",
       "      <td>deg</td>\n",
       "    </tr>\n",
       "    <tr>\n",
       "      <th>22</th>\n",
       "      <td>ulcra</td>\n",
       "      <td>double</td>\n",
       "      <td>RA of upper left corner.</td>\n",
       "      <td>deg</td>\n",
       "    </tr>\n",
       "    <tr>\n",
       "      <th>23</th>\n",
       "      <td>urcdec</td>\n",
       "      <td>double</td>\n",
       "      <td>Declination of upper right corner.</td>\n",
       "      <td>deg</td>\n",
       "    </tr>\n",
       "    <tr>\n",
       "      <th>24</th>\n",
       "      <td>urcra</td>\n",
       "      <td>double</td>\n",
       "      <td>RA of upper right corner.</td>\n",
       "      <td>deg</td>\n",
       "    </tr>\n",
       "    <tr>\n",
       "      <th>25</th>\n",
       "      <td>visitId</td>\n",
       "      <td>long</td>\n",
       "      <td>Reference to the corresponding entry in the Vi...</td>\n",
       "      <td></td>\n",
       "    </tr>\n",
       "    <tr>\n",
       "      <th>26</th>\n",
       "      <td>xSize</td>\n",
       "      <td>long</td>\n",
       "      <td>Number of columns in the image.</td>\n",
       "      <td>pixel</td>\n",
       "    </tr>\n",
       "    <tr>\n",
       "      <th>27</th>\n",
       "      <td>ySize</td>\n",
       "      <td>long</td>\n",
       "      <td>Number of rows in the image.</td>\n",
       "      <td>pixel</td>\n",
       "    </tr>\n",
       "    <tr>\n",
       "      <th>28</th>\n",
       "      <td>zenithDistance</td>\n",
       "      <td>float</td>\n",
       "      <td>Zenith distance at observation mid-point.</td>\n",
       "      <td>deg</td>\n",
       "    </tr>\n",
       "    <tr>\n",
       "      <th>29</th>\n",
       "      <td>zeroPoint</td>\n",
       "      <td>float</td>\n",
       "      <td>Zero-point for the CCD, estimated at CCD center.</td>\n",
       "      <td>mag</td>\n",
       "    </tr>\n",
       "  </tbody>\n",
       "</table>\n",
       "</div>"
      ],
      "text/plain": [
       "        column_name datatype  \\\n",
       "0              band     char   \n",
       "1        ccdVisitId     long   \n",
       "2          darkTime   double   \n",
       "3              decl   double   \n",
       "4          detector     long   \n",
       "5          expMidpt     char   \n",
       "6       expMidptMJD   double   \n",
       "7           expTime   double   \n",
       "8            llcdec   double   \n",
       "9             llcra   double   \n",
       "10           lrcdec   double   \n",
       "11            lrcra   double   \n",
       "12         obsStart     char   \n",
       "13      obsStartMJD   double   \n",
       "14  physical_filter     char   \n",
       "15         psfSigma    float   \n",
       "16               ra   double   \n",
       "17           seeing   double   \n",
       "18            skyBg    float   \n",
       "19         skyNoise    float   \n",
       "20      skyRotation   double   \n",
       "21           ulcdec   double   \n",
       "22            ulcra   double   \n",
       "23           urcdec   double   \n",
       "24            urcra   double   \n",
       "25          visitId     long   \n",
       "26            xSize     long   \n",
       "27            ySize     long   \n",
       "28   zenithDistance    float   \n",
       "29        zeroPoint    float   \n",
       "\n",
       "                                          description    unit  \n",
       "0   Name of the band used to take the exposure whe...          \n",
       "1                    Primary key (unique identifier).          \n",
       "2   Average dark current accumulation time, accura...       s  \n",
       "3                          Declination of CCD center.     deg  \n",
       "4   Detector ID. A detector associated with a part...          \n",
       "5       Midpoint for exposure. TAI, accurate to 10ms.          \n",
       "6   Midpoint for exposure in MJD. TAI, accurate to...       d  \n",
       "7   Spatially-averaged duration of exposure, accur...       s  \n",
       "8                   Declination of lower left corner.     deg  \n",
       "9                            RA of lower left corner.     deg  \n",
       "10                 Declination of lower right corner.     deg  \n",
       "11                          RA of lower right corner.     deg  \n",
       "12      Start of the exposure, TAI, accurate to 10ms.          \n",
       "13  Start of the exposure in MJD, TAI, accurate to...       d  \n",
       "14  ID of physical filter, the filter associated w...          \n",
       "15  PSF model second-moments determinant radius (c...   pixel  \n",
       "16                                  RA of CCD center.     deg  \n",
       "17                     Mean measured FWHM of the PSF.  arcsec  \n",
       "18                            Average sky background.     adu  \n",
       "19                   RMS noise of the sky background.     adu  \n",
       "20                                Sky rotation angle.     deg  \n",
       "21                  Declination of upper left corner.     deg  \n",
       "22                           RA of upper left corner.     deg  \n",
       "23                 Declination of upper right corner.     deg  \n",
       "24                          RA of upper right corner.     deg  \n",
       "25  Reference to the corresponding entry in the Vi...          \n",
       "26                    Number of columns in the image.   pixel  \n",
       "27                       Number of rows in the image.   pixel  \n",
       "28          Zenith distance at observation mid-point.     deg  \n",
       "29   Zero-point for the CCD, estimated at CCD center.     mag  "
      ]
     },
     "execution_count": 8,
     "metadata": {},
     "output_type": "execute_result"
    }
   ],
   "source": [
    "query = \"\"\"\n",
    "    SELECT column_name, datatype, description, unit\n",
    "    FROM tap_schema.columns\n",
    "    WHERE table_name = 'dp02_dc2_catalogs.CcdVisit'\n",
    "\"\"\"\n",
    "results = service.search(query).to_table().to_pandas()\n",
    "results"
   ]
  },
  {
   "cell_type": "markdown",
   "id": "aeea5809-f470-4110-83dd-4461434b5a04",
   "metadata": {},
   "source": [
    "## Read in the Xue+2016 ECDF catalog"
   ]
  },
  {
   "cell_type": "code",
   "execution_count": 18,
   "id": "ba1cd550-1f36-4e67-8ce8-1625a0a2a94d",
   "metadata": {
    "execution": {
     "iopub.execute_input": "2025-07-10T08:45:05.566178Z",
     "iopub.status.busy": "2025-07-10T08:45:05.565399Z",
     "iopub.status.idle": "2025-07-10T08:45:05.620867Z",
     "shell.execute_reply": "2025-07-10T08:45:05.620196Z",
     "shell.execute_reply.started": "2025-07-10T08:45:05.566147Z"
    }
   },
   "outputs": [],
   "source": [
    "hdul = fits.open('../DATA/ECDFS.fits')\n",
    "data = hdul[1].data\n",
    "table = Table(data)\n",
    "xpos = table[['Seq', 'RAJ2000','DEJ2000']]"
   ]
  },
  {
   "cell_type": "markdown",
   "id": "346a68d9-7d5d-4ba0-bd40-7d19279346c7",
   "metadata": {},
   "source": [
    "## Write the query to positionally match to the ECDF catalog"
   ]
  },
  {
   "cell_type": "code",
   "execution_count": 99,
   "id": "d0976e4d-c659-46fb-b32c-6316a04300e1",
   "metadata": {
    "execution": {
     "iopub.execute_input": "2025-07-10T09:31:11.868042Z",
     "iopub.status.busy": "2025-07-10T09:31:11.867708Z",
     "iopub.status.idle": "2025-07-10T09:31:11.872120Z",
     "shell.execute_reply": "2025-07-10T09:31:11.871467Z",
     "shell.execute_reply.started": "2025-07-10T09:31:11.868021Z"
    }
   },
   "outputs": [],
   "source": [
    "match_radius_in_arcsec = 10.\n",
    "query = f\"\"\"\n",
    "SELECT obj.objectId as objectId,\n",
    "xpos.seq AS xseq,\n",
    "xpos.RAJ2000 as XRA, xpos.DEJ2000 as XDec, \n",
    "obj.coord_ra as RA, obj.coord_dec as Dec, \n",
    "obj.g_psfMag as gmag, obj.r_psfMag as rmag, obj.i_psfMag as imag,\n",
    "DISTANCE(\n",
    "    POINT('ICRS', obj.coord_ra, obj.coord_dec),\n",
    "    POINT('ICRS', xpos.RAJ2000, xpos.DEJ2000)\n",
    ") as separation\n",
    "FROM dp1.Object as obj, TAP_UPLOAD.xpos AS xpos\n",
    "WHERE CONTAINS(\n",
    "    POINT('ICRS', obj.coord_ra, obj.coord_dec),\n",
    "    CIRCLE('ICRS', xpos.RAJ2000, xpos.DEJ2000, {match_radius_in_arcsec / 3600:.5f})\n",
    ")=1\n",
    "\"\"\""
   ]
  },
  {
   "cell_type": "markdown",
   "id": "318d6cd3-6608-4183-a37d-9b5e81a79657",
   "metadata": {},
   "source": [
    "## Run the query, providing the ECDF positions as an upload"
   ]
  },
  {
   "cell_type": "code",
   "execution_count": 100,
   "id": "4c6e48d4-dc37-4ad5-9619-0264e63918c7",
   "metadata": {
    "execution": {
     "iopub.execute_input": "2025-07-10T09:31:12.980722Z",
     "iopub.status.busy": "2025-07-10T09:31:12.980156Z",
     "iopub.status.idle": "2025-07-10T09:32:17.578963Z",
     "shell.execute_reply": "2025-07-10T09:32:17.578191Z",
     "shell.execute_reply.started": "2025-07-10T09:31:12.980696Z"
    }
   },
   "outputs": [
    {
     "name": "stdout",
     "output_type": "stream",
     "text": [
      "Job phase is COMPLETED\n"
     ]
    }
   ],
   "source": [
    "job = service.submit_job(query, uploads={\"xpos\": xpos})\n",
    "job.run()\n",
    "job.wait(phases=['COMPLETED', 'ERROR'])\n",
    "print('Job phase is', job.phase)"
   ]
  },
  {
   "cell_type": "code",
   "execution_count": 36,
   "id": "802fc21f-6328-46e3-829d-4daab9209d65",
   "metadata": {
    "execution": {
     "iopub.execute_input": "2025-07-10T09:00:29.771658Z",
     "iopub.status.busy": "2025-07-10T09:00:29.770996Z",
     "iopub.status.idle": "2025-07-10T09:00:29.976335Z",
     "shell.execute_reply": "2025-07-10T09:00:29.975590Z",
     "shell.execute_reply.started": "2025-07-10T09:00:29.771614Z"
    }
   },
   "outputs": [],
   "source": [
    "matches = job.fetch_result()"
   ]
  },
  {
   "cell_type": "markdown",
   "id": "2ba5cfd6-9ecd-461a-b635-d7c3fff2bf42",
   "metadata": {},
   "source": [
    "## Extract the matches and plot their separations"
   ]
  },
  {
   "cell_type": "code",
   "execution_count": 37,
   "id": "03068c2a-b2ce-43b7-a347-58328a6b44ac",
   "metadata": {
    "execution": {
     "iopub.execute_input": "2025-07-10T09:00:30.873199Z",
     "iopub.status.busy": "2025-07-10T09:00:30.872411Z",
     "iopub.status.idle": "2025-07-10T09:00:31.031267Z",
     "shell.execute_reply": "2025-07-10T09:00:31.030406Z",
     "shell.execute_reply.started": "2025-07-10T09:00:30.873172Z"
    }
   },
   "outputs": [
    {
     "name": "stdout",
     "output_type": "stream",
     "text": [
      "There are 1064 matches to 1003 X-ray sources.\n"
     ]
    },
    {
     "data": {
      "image/png": "[encoded data removed]",
      "text/plain": [
       "<Figure size 640x480 with 1 Axes>"
      ]
     },
     "metadata": {},
     "output_type": "display_data"
    }
   ],
   "source": [
    "matches = job.fetch_result().to_table()\n",
    "print(f'There are {len(matches)} matches to {len(xpos)} X-ray sources.')\n",
    "\n",
    "plt.hist(matches['separation']*3600.)\n",
    "\n",
    "plt.show()"
   ]
  },
  {
   "cell_type": "markdown",
   "id": "a1e9a9a7-c45b-499f-9cb6-56159fea720c",
   "metadata": {},
   "source": [
    "## Match to the forcedSource table on objectId, and JOIN the visit table to get MJD data"
   ]
  },
  {
   "cell_type": "code",
   "execution_count": 48,
   "id": "28d74356-dc36-477b-b53c-e14c7751f9bc",
   "metadata": {
    "execution": {
     "iopub.execute_input": "2025-07-10T09:04:54.186280Z",
     "iopub.status.busy": "2025-07-10T09:04:54.185952Z",
     "iopub.status.idle": "2025-07-10T09:04:54.202218Z",
     "shell.execute_reply": "2025-07-10T09:04:54.201442Z",
     "shell.execute_reply.started": "2025-07-10T09:04:54.186257Z"
    }
   },
   "outputs": [],
   "source": [
    "idList = \"(\" + \", \".join(str(value) for value in matches['objectId']) + \")\"\n",
    "query = f\"\"\"\n",
    "SELECT fs.objectId as objectId,\n",
    "fs.psfDiffFlux as psfDiffFlux,\n",
    "fs.psfDiffFluxErr as psfDiffFluxErr,\n",
    "fs.psfDiffFlux_flag as psfDiffFlux_flag,\n",
    "v.expMidptMJD as mjd, v.band as band\n",
    "FROM dp1.ForcedSource as fs\n",
    "JOIN dp1.Visit as v ON v.visit = fs.visit\n",
    "WHERE fs.objectId IN {idList}  \n",
    "\"\"\""
   ]
  },
  {
   "cell_type": "code",
   "execution_count": 5,
   "id": "be7e4d0c-2cba-405c-91a6-9f31eb3d0d35",
   "metadata": {
    "execution": {
     "iopub.execute_input": "2025-07-10T12:43:58.451097Z",
     "iopub.status.busy": "2025-07-10T12:43:58.450209Z",
     "iopub.status.idle": "2025-07-10T12:46:56.133090Z",
     "shell.execute_reply": "2025-07-10T12:46:56.132323Z",
     "shell.execute_reply.started": "2025-07-10T12:43:58.451063Z"
    }
   },
   "outputs": [
    {
     "name": "stdout",
     "output_type": "stream",
     "text": [
      "Job phase is COMPLETED\n"
     ]
    }
   ],
   "source": [
    "job = service.submit_job(query)#, uploads={\"matches\": matches})\n",
    "job.run()\n",
    "job.wait(phases=['COMPLETED', 'ERROR'])\n",
    "print('Job phase is', job.phase)"
   ]
  },
  {
   "cell_type": "code",
   "execution_count": 50,
   "id": "3ef79f8d-1dd2-491e-aba1-173f48e573bb",
   "metadata": {
    "execution": {
     "iopub.execute_input": "2025-07-10T09:06:48.142362Z",
     "iopub.status.busy": "2025-07-10T09:06:48.141680Z",
     "iopub.status.idle": "2025-07-10T09:06:59.051756Z",
     "shell.execute_reply": "2025-07-10T09:06:59.050897Z",
     "shell.execute_reply.started": "2025-07-10T09:06:48.142336Z"
    }
   },
   "outputs": [],
   "source": [
    "forcedPhot = job.fetch_result()"
   ]
  },
  {
   "cell_type": "markdown",
   "id": "ae20eeb3-f94f-4bd4-9bdf-3a80ee1c501b",
   "metadata": {},
   "source": [
    "## Merge matched and forced photometry tables to combine X-ray and LSST data into one table"
   ]
  },
  {
   "cell_type": "code",
   "execution_count": 70,
   "id": "1cd16043-e2d3-4b60-a415-d9097ba35765",
   "metadata": {
    "execution": {
     "iopub.execute_input": "2025-07-10T09:18:17.382775Z",
     "iopub.status.busy": "2025-07-10T09:18:17.382091Z",
     "iopub.status.idle": "2025-07-10T09:18:17.486312Z",
     "shell.execute_reply": "2025-07-10T09:18:17.485584Z",
     "shell.execute_reply.started": "2025-07-10T09:18:17.382747Z"
    }
   },
   "outputs": [],
   "source": [
    "joined = pd.merge(matches.to_pandas(), forcedPhot.to_table().to_pandas(), on='objectId', how='right')"
   ]
  },
  {
   "cell_type": "markdown",
   "id": "4e9774dd-5529-4ba2-9b2e-0da8fbe1d7d9",
   "metadata": {
    "execution": {
     "iopub.execute_input": "2025-07-10T09:27:53.752022Z",
     "iopub.status.busy": "2025-07-10T09:27:53.751114Z",
     "iopub.status.idle": "2025-07-10T09:27:53.755047Z",
     "shell.execute_reply": "2025-07-10T09:27:53.754449Z",
     "shell.execute_reply.started": "2025-07-10T09:27:53.751989Z"
    }
   },
   "source": [
    "## Plot the (g, r, i) lightcurves of the seq=500 X-ray source"
   ]
  },
  {
   "cell_type": "code",
   "execution_count": 98,
   "id": "2eea75ee-c730-47a0-8dc4-1a0833496e51",
   "metadata": {
    "execution": {
     "iopub.execute_input": "2025-07-10T09:29:14.844898Z",
     "iopub.status.busy": "2025-07-10T09:29:14.844160Z",
     "iopub.status.idle": "2025-07-10T09:29:15.083994Z",
     "shell.execute_reply": "2025-07-10T09:29:15.083335Z",
     "shell.execute_reply.started": "2025-07-10T09:29:14.844874Z"
    }
   },
   "outputs": [
    {
     "data": {
      "image/png": "[encoded data removed]",
      "text/plain": [
       "<Figure size 640x480 with 1 Axes>"
      ]
     },
     "metadata": {},
     "output_type": "display_data"
    }
   ],
   "source": [
    "xseq = 500\n",
    "for band in ['g','r','i']:\n",
    "    subtable = joined[(joined['xseq'] == xseq) & (joined['band'] == band)]\n",
    "    plt.errorbar(subtable['mjd'],\n",
    "                 subtable['psfDiffFlux'],\n",
    "                 yerr=subtable['psfDiffFluxErr'],\n",
    "                 linestyle='none', fmt='o', label=band)\n",
    "plt.ylim(-2000,2000)\n",
    "plt.title(f\"x-ray ID:{subtable['xseq'].iloc[0]}\")\n",
    "plt.legend()\n",
    "plt.show()"
   ]
  },
  {
   "cell_type": "code",
   "execution_count": null,
   "id": "8e0d2f92-8cd0-48e8-8855-cbbc713d6d25",
   "metadata": {},
   "outputs": [],
   "source": []
  }
 ],
 "metadata": {
  "kernelspec": {
   "display_name": "LSST",
   "language": "python",
   "name": "lsst"
  },
  "language_info": {
   "codemirror_mode": {
    "name": "ipython",
    "version": 3
   },
   "file_extension": ".py",
   "mimetype": "text/x-python",
   "name": "python",
   "nbconvert_exporter": "python",
   "pygments_lexer": "ipython3",
   "version": "3.12.11"
  }
 },
 "nbformat": 4,
 "nbformat_minor": 5
}
